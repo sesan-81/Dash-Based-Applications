{
 "cells": [
  {
   "cell_type": "markdown",
   "id": "9e202072",
   "metadata": {},
   "source": [
    "# Diamond Price Prediction Web Application"
   ]
  },
  {
   "cell_type": "markdown",
   "id": "263e91de",
   "metadata": {},
   "source": [
    "## Step 1: Loading Dependencies"
   ]
  },
  {
   "cell_type": "markdown",
   "id": "b38bcc04",
   "metadata": {},
   "source": [
    "In this section, we import the required libraries for building the web application. dash is the main library for creating interactive web applications, dcc provides core components for Dash, and html provides HTML components. We also import libraries for loading our pre-trained model (keras) and the PCA model (joblib), as well as standard data manipulation libraries (numpy and pandas)."
   ]
  },
  {
   "cell_type": "code",
   "execution_count": 1,
   "id": "144e6999",
   "metadata": {},
   "outputs": [
    {
     "name": "stderr",
     "output_type": "stream",
     "text": [
      "C:\\Users\\Sesan\\anaconda3\\envs\\PythonData\\lib\\site-packages\\ipykernel_launcher.py:3: UserWarning: \n",
      "The dash_core_components package is deprecated. Please replace\n",
      "`import dash_core_components as dcc` with `from dash import dcc`\n",
      "  This is separate from the ipykernel package so we can avoid doing imports until\n"
     ]
    }
   ],
   "source": [
    "# Import necessary libraries\n",
    "import dash\n",
    "import dash_core_components as dcc\n",
    "from dash import html\n",
    "from dash.dependencies import Input, Output\n",
    "from dash.dependencies import Input, Output, State\n",
    "from keras.models import load_model\n",
    "import joblib\n",
    "\n",
    "import numpy as np\n",
    "import pandas as pd\n"
   ]
  },
  {
   "cell_type": "markdown",
   "id": "0cc10b75",
   "metadata": {},
   "source": [
    "# Section 2: Load Pre-Trained Model and PCA"
   ]
  },
  {
   "cell_type": "markdown",
   "id": "bd523bbb",
   "metadata": {},
   "source": [
    "Here, we load the pre-trained neural network model (diamond-neural-network.h5) and the PCA model (pca.joblib) that were provided."
   ]
  },
  {
   "cell_type": "code",
   "execution_count": 2,
   "id": "b725b482",
   "metadata": {},
   "outputs": [
    {
     "name": "stderr",
     "output_type": "stream",
     "text": [
      "C:\\Users\\Sesan\\anaconda3\\envs\\PythonData\\lib\\site-packages\\sklearn\\base.py:338: UserWarning: Trying to unpickle estimator PCA from version 0.23.2 when using version 1.0.2. This might lead to breaking code or invalid results. Use at your own risk. For more info please refer to:\n",
      "https://scikit-learn.org/stable/modules/model_persistence.html#security-maintainability-limitations\n",
      "  UserWarning,\n"
     ]
    }
   ],
   "source": [
    "# Load the pre-trained model and PCA\n",
    "model = load_model('diamond-neural-network.h5')\n",
    "pca = joblib.load('pca.joblib')"
   ]
  },
  {
   "cell_type": "markdown",
   "id": "55a1ce2a",
   "metadata": {},
   "source": [
    "# Section 3: Initialize the Dash App"
   ]
  },
  {
   "cell_type": "markdown",
   "id": "e31518bd",
   "metadata": {},
   "source": [
    "In this section, we initialize the Dash app. We also include external CSS styling to enhance the visual appearance of the web application."
   ]
  },
  {
   "cell_type": "code",
   "execution_count": 3,
   "id": "fedf37f4",
   "metadata": {},
   "outputs": [],
   "source": [
    "# Initialize the Dash app\n",
    "app = dash.Dash(__name__)\n",
    "app.css.append_css({\n",
    "    'external_url': 'https://codepen.io/chriddyp/pen/bWLwgP.css'\n",
    "})\n"
   ]
  },
  {
   "cell_type": "markdown",
   "id": "8925f552",
   "metadata": {},
   "source": [
    "# Section 4: Define Input Components for Diamond Characteristics"
   ]
  },
  {
   "cell_type": "markdown",
   "id": "89a4ee4a",
   "metadata": {},
   "source": [
    "This section defines the input components for various diamond characteristics. Numeric input fields are used for carat, depth, table, and dimensions (x, y, z), while dropdowns are used for cut, color, and clarity. Default values are provided for each input.\n",
    "\n"
   ]
  },
  {
   "cell_type": "code",
   "execution_count": 4,
   "id": "79fffdc4",
   "metadata": {},
   "outputs": [],
   "source": [
    "# Define input components for various diamond characteristics\n",
    "input_carat = dcc.Input(id='carat', type='number', placeholder='Carat', value=0.6)\n",
    "input_depth = dcc.Input(id='depth', type='number', placeholder='Depth', value=20)\n",
    "input_table = dcc.Input(id='table', type='number', placeholder='Table', value=40)\n",
    "input_x = dcc.Input(id='x', type='number', placeholder='x value', value=5)\n",
    "input_y = dcc.Input(id='y', type='number', placeholder='y value', value=6)\n",
    "input_z = dcc.Input(id='z', type='number', placeholder='z value', value=7)\n",
    "\n",
    "cut_values = ['Fair', 'Good', 'Ideal', 'Premium', 'Very Good']\n",
    "cut_options = [{'label': x, 'value': x} for x in cut_values]\n",
    "input_cut = dcc.Dropdown(id='cut', options=cut_options, value='Ideal')\n",
    "\n",
    "color_values = ['D', 'E', 'F', 'G', 'H', 'I', 'J']\n",
    "color_options = [{'label': x, 'value': x} for x in color_values]\n",
    "input_color = dcc.Dropdown(id='color', options=color_options, value='G')\n",
    "\n",
    "clarity_values = ['I1', 'IF', 'SI1', 'SI2', 'VS1', 'VS2', 'VVS1', 'VVS2']\n",
    "clarity_options = [{'label': x, 'value': x} for x in clarity_values]\n",
    "input_clarity = dcc.Dropdown(id='clarity', options=clarity_options, value='SI1')\n"
   ]
  },
  {
   "cell_type": "markdown",
   "id": "e25f5754",
   "metadata": {},
   "source": [
    "# Section 5: Layout of the App"
   ]
  },
  {
   "cell_type": "markdown",
   "id": "10851c13",
   "metadata": {},
   "source": [
    "In this section, we define the overall layout of the web application using Dash's HTML components. The layout includes headers, input components organized in a grid structure, and an empty space for the output."
   ]
  },
  {
   "cell_type": "code",
   "execution_count": 5,
   "id": "5707b3b7",
   "metadata": {},
   "outputs": [],
   "source": [
    "# Layout of the app\n",
    "app.layout = html.Div([\n",
    "    html.H1('IDR Predict Diamond Prices'),\n",
    "    html.H2('Enter Diamond Characteristics to Get Predicted Price'),\n",
    "    html.Div([\n",
    "        html.Div([html.H3('Carat:'), input_carat], className=\"four columns\"),\n",
    "        html.Div([html.H3('Depth:'), input_depth], className=\"four columns\"),\n",
    "        html.Div([html.H3('Table:'), input_table], className=\"four columns\"),\n",
    "        html.Div([html.H3('x value:'), input_x], className=\"four columns\"),\n",
    "        html.Div([html.H3('y value:'), input_y], className=\"four columns\"),\n",
    "        html.Div([html.H3('z value:'), input_z], className=\"four columns\"),\n",
    "        html.Div([html.H3('Cut:'), input_cut], className=\"four columns\"),\n",
    "        html.Div([html.H3('Color:'), input_color], className=\"four columns\"),\n",
    "        html.Div([html.H3('Clarity:'), input_clarity], className=\"four columns\")\n",
    "    ], className=\"row\"),\n",
    "    # Add a \"Predict\" button\n",
    "    html.Button('Predict', id='predict-button', n_clicks=0, style={'margin-top': '10px'}),\n",
    "    \n",
    "    \n",
    "    html.H1(id='output', style={'margin-top': '50px', 'text-align': 'center'})\n",
    "])\n",
    "\n"
   ]
  },
  {
   "cell_type": "markdown",
   "id": "daefd933",
   "metadata": {},
   "source": [
    "# Section 6: Callback Function for Prediction"
   ]
  },
  {
   "cell_type": "markdown",
   "id": "70fbb8c5",
   "metadata": {},
   "source": [
    "Here, we define the function get_prediction that takes user inputs, processes them, and returns the predicted price. This section includes a placeholder for the existing code responsible for predictions and any adjustments needed."
   ]
  },
  {
   "cell_type": "code",
   "execution_count": 6,
   "id": "a355ef65",
   "metadata": {},
   "outputs": [],
   "source": [
    "# Function to get predictions\n",
    "def get_prediction(carat, depth, table, x, y, z, cut, color, clarity):\n",
    "    # Define the columns for the input DataFrame\n",
    "    cols = ['carat', 'depth', 'table',\n",
    "            'cut_Good', 'cut_Ideal', 'cut_Premium', 'cut_Very Good',\n",
    "            'color_E', 'color_F', 'color_G', 'color_H', 'color_I', 'color_J',\n",
    "            'clarity_IF', 'clarity_SI1', 'clarity_SI2', 'clarity_VS1', 'clarity_VS2', 'clarity_VVS1', 'clarity_VVS2',\n",
    "            'dim_index']\n",
    "\n",
    "    # Create dictionaries to map categorical values to one-hot encoded columns\n",
    "    cut_dict = {x: 'cut_' + x for x in cut_values[1:]}\n",
    "    color_dict = {x: 'color_' + x for x in color_values[1:]}\n",
    "    clarity_dict = {x: 'clarity_' + x for x in clarity_values[1:]}\n",
    "\n",
    "    # Create a DataFrame with a single row of zeros\n",
    "    df = pd.DataFrame(data=np.zeros((1, len(cols))), columns=cols)\n",
    "\n",
    "    # Assign numeric characteristics\n",
    "    df.loc[0, 'carat'] = carat\n",
    "    df.loc[0, 'depth'] = depth\n",
    "    df.loc[0, 'table'] = table\n",
    "\n",
    "    # Transform dimensions into a single dim_index using PCA\n",
    "    dims_df = pd.DataFrame(data=[[x, y, z]], columns=['x', 'y', 'z'])\n",
    "    df.loc[0, 'dim_index'] = pca.transform(dims_df).flatten()[0]\n",
    "\n",
    "    # Use one-hot encoding for categorical features\n",
    "    if cut != 'Fair':\n",
    "        df.loc[0, cut_dict[cut]] = 1\n",
    "\n",
    "    if color != 'D':\n",
    "        df.loc[0, color_dict[color]] = 1\n",
    "\n",
    "    if clarity != 'I1':\n",
    "        df.loc[0, clarity_dict[clarity]] = 1\n",
    "\n",
    "    # TODO: Uncomment the following line if scaler is used and available\n",
    "    # df.loc[:, numerical_features] = scaler.transform(df.loc[:, numerical_features])\n",
    "\n",
    "    # Get predictions using the trained neural network\n",
    "    prediction = model.predict(df.values).flatten()[0]\n",
    "\n",
    "    # Check for extreme predictions and cap them at a predefined threshold (adjust as needed)\n",
    "    if prediction > 20.0:\n",
    "        prediction = 20.0\n",
    "\n",
    "    # Transform the log-prices to prices\n",
    "    prediction = np.exp(prediction)\n",
    "\n",
    "    # Return the predicted price as an integer\n",
    "    return int(prediction)\n"
   ]
  },
  {
   "cell_type": "markdown",
   "id": "d669e1f8",
   "metadata": {},
   "source": [
    "# Section 8: Run the App"
   ]
  },
  {
   "cell_type": "markdown",
   "id": "4a008199",
   "metadata": {},
   "source": [
    "The final section runs the Dash app if the script is executed directly."
   ]
  },
  {
   "cell_type": "code",
   "execution_count": 7,
   "id": "7c5b6366",
   "metadata": {},
   "outputs": [],
   "source": [
    "# Define callback for prediction updates\n",
    "\n",
    "# Callback to update the output based on user input\n",
    "predictors = ['carat', 'depth', 'table', 'x', 'y', 'z', 'cut', 'color', 'clarity']\n",
    "@app.callback(Output('output', 'children'), [Input(x, 'value') for x in predictors])\n",
    "def show_prediction(carat, depth, table, x, y, z, cut, color, clarity):\n",
    "    pred = get_prediction(carat, depth, table, x, y, z, cut, color, clarity)\n",
    "    return str(\"Predicted Price: {:,}\".format(pred))"
   ]
  },
  {
   "cell_type": "code",
   "execution_count": 8,
   "id": "c6f9a1a8",
   "metadata": {},
   "outputs": [
    {
     "name": "stderr",
     "output_type": "stream",
     "text": [
      "C:\\Users\\Sesan\\anaconda3\\envs\\PythonData\\lib\\site-packages\\dash\\resources.py:63: UserWarning:\n",
      "\n",
      "You have set your config to `serve_locally=True` but A local version of https://codepen.io/chriddyp/pen/bWLwgP.css is not available.\n",
      "If you added this file with `app.scripts.append_script` or `app.css.append_css`, use `external_scripts` or `external_stylesheets` instead.\n",
      "See https://dash.plotly.com/external-resources\n",
      "\n"
     ]
    },
    {
     "data": {
      "text/html": [
       "\n",
       "        <iframe\n",
       "            width=\"100%\"\n",
       "            height=\"650\"\n",
       "            src=\"http://127.0.0.1:8050/\"\n",
       "            frameborder=\"0\"\n",
       "            allowfullscreen\n",
       "            \n",
       "        ></iframe>\n",
       "        "
      ],
      "text/plain": [
       "<IPython.lib.display.IFrame at 0x1f9c9b71d08>"
      ]
     },
     "metadata": {},
     "output_type": "display_data"
    },
    {
     "name": "stdout",
     "output_type": "stream",
     "text": [
      "\r",
      "1/1 [==============================] - ETA: 0s"
     ]
    },
    {
     "name": "stderr",
     "output_type": "stream",
     "text": [
      "C:\\Users\\Sesan\\anaconda3\\envs\\PythonData\\lib\\site-packages\\sklearn\\base.py:444: UserWarning:\n",
      "\n",
      "X has feature names, but PCA was fitted without feature names\n",
      "\n"
     ]
    },
    {
     "name": "stdout",
     "output_type": "stream",
     "text": [
      "\b\b\b\b\b\b\b\b\b\b\b\b\b\b\b\b\b\b\b\b\b\b\b\b\b\b\b\b\b\b\b\b\b\b\b\b\b\b\b\b\b\b\b\b\b\b\r",
      "1/1 [==============================] - 0s 115ms/step\n"
     ]
    }
   ],
   "source": [
    "# Run the app\n",
    "if __name__ == '__main__':\n",
    "    app.run_server(debug=True)\n"
   ]
  },
  {
   "cell_type": "code",
   "execution_count": null,
   "id": "d8414931",
   "metadata": {},
   "outputs": [],
   "source": []
  },
  {
   "cell_type": "code",
   "execution_count": null,
   "id": "e30cd571",
   "metadata": {},
   "outputs": [],
   "source": []
  }
 ],
 "metadata": {
  "kernelspec": {
   "display_name": "Python 3 (ipykernel)",
   "language": "python",
   "name": "python3"
  },
  "language_info": {
   "codemirror_mode": {
    "name": "ipython",
    "version": 3
   },
   "file_extension": ".py",
   "mimetype": "text/x-python",
   "name": "python",
   "nbconvert_exporter": "python",
   "pygments_lexer": "ipython3",
   "version": "3.7.13"
  }
 },
 "nbformat": 4,
 "nbformat_minor": 5
}
